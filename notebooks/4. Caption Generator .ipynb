{
 "cells": [
  {
   "cell_type": "code",
   "execution_count": 5,
   "metadata": {
    "colab": {},
    "colab_type": "code",
    "executionInfo": {
     "elapsed": 1033,
     "status": "ok",
     "timestamp": 1594059085360,
     "user": {
      "displayName": "Muhammad Huzaifa Bashir",
      "photoUrl": "",
      "userId": "15293938916061561959"
     },
     "user_tz": -300
    },
    "id": "OeWylktQKGJJ"
   },
   "outputs": [],
   "source": [
    "import numpy as np\n",
    "from numpy import array\n",
    "import pandas as pd\n",
    "import matplotlib.pyplot as plt \n",
    "import string\n",
    "import os\n",
    "from PIL import Image\n",
    "import glob\n",
    "from pickle import dump, load\n",
    "from tqdm import tqdm_notebook as tqdm\n",
    "from time import time\n",
    "from keras.preprocessing import sequence\n",
    "from keras.models import Sequential\n",
    "from keras.layers import LSTM, Embedding, TimeDistributed, Dense, RepeatVector,\\\n",
    "                         Activation, Flatten, Reshape, concatenate, Dropout, BatchNormalization\n",
    "import h5py\n",
    "from keras.optimizers import Adam, RMSprop\n",
    "from keras.layers.wrappers import Bidirectional\n",
    "from keras.layers.merge import add\n",
    "from keras.applications.inception_v3 import InceptionV3\n",
    "from keras.preprocessing import image\n",
    "from keras.models import Model\n",
    "from keras import Input, layers\n",
    "from keras import optimizers\n",
    "from keras.applications.inception_v3 import preprocess_input\n",
    "from keras.preprocessing.text import Tokenizer\n",
    "from keras.preprocessing.sequence import pad_sequences\n",
    "from keras.utils import to_categorical\n",
    "import nltk"
   ]
  },
  {
   "cell_type": "code",
   "execution_count": 6,
   "metadata": {
    "colab": {},
    "colab_type": "code",
    "executionInfo": {
     "elapsed": 1009,
     "status": "ok",
     "timestamp": 1594059085362,
     "user": {
      "displayName": "Muhammad Huzaifa Bashir",
      "photoUrl": "",
      "userId": "15293938916061561959"
     },
     "user_tz": -300
    },
    "id": "MGx7MejxKGJh"
   },
   "outputs": [],
   "source": [
    "try:\n",
    "    import dill as pickle\n",
    "except ImportError:\n",
    "    import pickle"
   ]
  },
  {
   "cell_type": "code",
   "execution_count": 7,
   "metadata": {
    "colab": {
     "base_uri": "https://localhost:8080/",
     "height": 34
    },
    "colab_type": "code",
    "executionInfo": {
     "elapsed": 996,
     "status": "ok",
     "timestamp": 1594059085363,
     "user": {
      "displayName": "Muhammad Huzaifa Bashir",
      "photoUrl": "",
      "userId": "15293938916061561959"
     },
     "user_tz": -300
    },
    "id": "t3Ggta4SL5XF",
    "outputId": "e194888e-e5ea-45de-9ed1-3c047bdfd84e"
   },
   "outputs": [
    {
     "name": "stdout",
     "output_type": "stream",
     "text": [
      "Drive already mounted at /content/drive; to attempt to forcibly remount, call drive.mount(\"/content/drive\", force_remount=True).\n"
     ]
    }
   ],
   "source": [
    "from google.colab import drive\n",
    "drive.mount('/content/drive')"
   ]
  },
  {
   "cell_type": "markdown",
   "metadata": {
    "colab_type": "text",
    "id": "5eTJWvoXKGJl"
   },
   "source": [
    "# Loading Caption Generator Model"
   ]
  },
  {
   "cell_type": "code",
   "execution_count": 8,
   "metadata": {
    "colab": {},
    "colab_type": "code",
    "executionInfo": {
     "elapsed": 3533,
     "status": "ok",
     "timestamp": 1594059087917,
     "user": {
      "displayName": "Muhammad Huzaifa Bashir",
      "photoUrl": "",
      "userId": "15293938916061561959"
     },
     "user_tz": -300
    },
    "id": "CtEe5aAIKGJl"
   },
   "outputs": [],
   "source": [
    "#model = load(open('./drive/My Drive/Project/theme_Caption_generator_Model.pkl', 'rb'))\n",
    "model = load(open('./drive/My Drive/Project/urdu/urdu_Caption_generator_Model.pkl', 'rb'))"
   ]
  },
  {
   "cell_type": "code",
   "execution_count": 9,
   "metadata": {
    "colab": {
     "base_uri": "https://localhost:8080/",
     "height": 510
    },
    "colab_type": "code",
    "executionInfo": {
     "elapsed": 3522,
     "status": "ok",
     "timestamp": 1594059087920,
     "user": {
      "displayName": "Muhammad Huzaifa Bashir",
      "photoUrl": "",
      "userId": "15293938916061561959"
     },
     "user_tz": -300
    },
    "id": "05PlznvvKGJq",
    "outputId": "bea40279-5996-4ba7-dd4b-0120a75e152f"
   },
   "outputs": [
    {
     "name": "stdout",
     "output_type": "stream",
     "text": [
      "Model: \"model_1\"\n",
      "__________________________________________________________________________________________________\n",
      "Layer (type)                    Output Shape         Param #     Connected to                     \n",
      "==================================================================================================\n",
      "input_2 (InputLayer)            (None, 35)           0                                            \n",
      "__________________________________________________________________________________________________\n",
      "input_1 (InputLayer)            (None, 2048)         0                                            \n",
      "__________________________________________________________________________________________________\n",
      "embedding_1 (Embedding)         (None, 35, 300)      110700      input_2[0][0]                    \n",
      "__________________________________________________________________________________________________\n",
      "dropout_1 (Dropout)             (None, 2048)         0           input_1[0][0]                    \n",
      "__________________________________________________________________________________________________\n",
      "dropout_2 (Dropout)             (None, 35, 300)      0           embedding_1[0][0]                \n",
      "__________________________________________________________________________________________________\n",
      "dense_1 (Dense)                 (None, 256)          524544      dropout_1[0][0]                  \n",
      "__________________________________________________________________________________________________\n",
      "lstm_1 (LSTM)                   (None, 256)          570368      dropout_2[0][0]                  \n",
      "__________________________________________________________________________________________________\n",
      "add_1 (Add)                     (None, 256)          0           dense_1[0][0]                    \n",
      "                                                                 lstm_1[0][0]                     \n",
      "__________________________________________________________________________________________________\n",
      "dense_2 (Dense)                 (None, 256)          65792       add_1[0][0]                      \n",
      "__________________________________________________________________________________________________\n",
      "dense_3 (Dense)                 (None, 369)          94833       dense_2[0][0]                    \n",
      "==================================================================================================\n",
      "Total params: 1,366,237\n",
      "Trainable params: 1,255,537\n",
      "Non-trainable params: 110,700\n",
      "__________________________________________________________________________________________________\n"
     ]
    }
   ],
   "source": [
    "model.summary()"
   ]
  },
  {
   "cell_type": "code",
   "execution_count": 10,
   "metadata": {
    "colab": {},
    "colab_type": "code",
    "executionInfo": {
     "elapsed": 3508,
     "status": "ok",
     "timestamp": 1594059087921,
     "user": {
      "displayName": "Muhammad Huzaifa Bashir",
      "photoUrl": "",
      "userId": "15293938916061561959"
     },
     "user_tz": -300
    },
    "id": "zuPMzThAKGJt"
   },
   "outputs": [],
   "source": [
    "#images = './drive/My Drive/Flickr8K_Data/'\n",
    "images = './drive/My Drive/Project/Theme_dataset/'"
   ]
  },
  {
   "cell_type": "code",
   "execution_count": 11,
   "metadata": {
    "colab": {},
    "colab_type": "code",
    "executionInfo": {
     "elapsed": 3496,
     "status": "ok",
     "timestamp": 1594059087923,
     "user": {
      "displayName": "Muhammad Huzaifa Bashir",
      "photoUrl": "",
      "userId": "15293938916061561959"
     },
     "user_tz": -300
    },
    "id": "RbxeULMnKGJw"
   },
   "outputs": [],
   "source": [
    "#with open(\"./drive/My Drive/Project/theme_encoded_test_images.pkl\", \"rb\") as encoded_pickle:\n",
    "#with open(\"./drive/My Drive/Project/urdu/urdu_encoded_test_images.pkl\", \"rb\") as encoded_pickle:\n",
    "with open(\"./drive/My Drive/Project/urdu/urdu_encoded_test_images.pkl\", \"rb\") as encoded_pickle:\n",
    "    encoding_test = load(encoded_pickle)"
   ]
  },
  {
   "cell_type": "code",
   "execution_count": 12,
   "metadata": {
    "colab": {
     "base_uri": "https://localhost:8080/",
     "height": 34
    },
    "colab_type": "code",
    "executionInfo": {
     "elapsed": 3478,
     "status": "ok",
     "timestamp": 1594059087924,
     "user": {
      "displayName": "Muhammad Huzaifa Bashir",
      "photoUrl": "",
      "userId": "15293938916061561959"
     },
     "user_tz": -300
    },
    "id": "bPYbPSxbKGJz",
    "outputId": "fdb5639a-80fb-4412-cfb8-3231dc527bed"
   },
   "outputs": [
    {
     "name": "stdout",
     "output_type": "stream",
     "text": [
      "Wordtoix Length = 368\n"
     ]
    }
   ],
   "source": [
    "# Loading wordtoix\n",
    "#wordtoix = load(open(\"./drive/My Drive/Project/theme_wordtoix.pkl\", \"rb\"))\n",
    "wordtoix = load(open(\"./drive/My Drive/Project/urdu/urdu_wordtoix.pkl\", \"rb\"))\n",
    "print('Wordtoix Length = %d' % len(wordtoix))"
   ]
  },
  {
   "cell_type": "code",
   "execution_count": 13,
   "metadata": {
    "colab": {},
    "colab_type": "code",
    "executionInfo": {
     "elapsed": 3461,
     "status": "ok",
     "timestamp": 1594059087925,
     "user": {
      "displayName": "Muhammad Huzaifa Bashir",
      "photoUrl": "",
      "userId": "15293938916061561959"
     },
     "user_tz": -300
    },
    "id": "a8f6XRW8KGJ3"
   },
   "outputs": [],
   "source": [
    "ixtoword = {}\n",
    "for word, i in wordtoix.items():\n",
    "    ixtoword[i] = word"
   ]
  },
  {
   "cell_type": "code",
   "execution_count": 14,
   "metadata": {
    "colab": {},
    "colab_type": "code",
    "executionInfo": {
     "elapsed": 3446,
     "status": "ok",
     "timestamp": 1594059087925,
     "user": {
      "displayName": "Muhammad Huzaifa Bashir",
      "photoUrl": "",
      "userId": "15293938916061561959"
     },
     "user_tz": -300
    },
    "id": "U07ObPM5KGJ7"
   },
   "outputs": [],
   "source": [
    "Directory_path = \"./drive/My Drive/Project/Theme_dataset/\""
   ]
  },
  {
   "cell_type": "code",
   "execution_count": 15,
   "metadata": {
    "colab": {},
    "colab_type": "code",
    "executionInfo": {
     "elapsed": 3428,
     "status": "ok",
     "timestamp": 1594059087926,
     "user": {
      "displayName": "Muhammad Huzaifa Bashir",
      "photoUrl": "",
      "userId": "15293938916061561959"
     },
     "user_tz": -300
    },
    "id": "ZzhtiuUaKGJ9"
   },
   "outputs": [],
   "source": [
    "def greedySearch(photo):\n",
    "    in_text = 'startseq'\n",
    "    for i in range(max_length):\n",
    "        sequence = [wordtoix[w] for w in in_text.split() if w in wordtoix]\n",
    "        sequence = pad_sequences([sequence], maxlen=max_length)\n",
    "        yhat = model.predict([photo,sequence], verbose=0)\n",
    "        yhat = np.argmax(yhat)\n",
    "        word = ixtoword[yhat]\n",
    "        in_text += ' ' + word\n",
    "        if word == 'endseq':\n",
    "            break\n",
    "    final = in_text.split()\n",
    "    final = final[1:-1]\n",
    "    final = ' '.join(final)\n",
    "    return final"
   ]
  },
  {
   "cell_type": "code",
   "execution_count": 16,
   "metadata": {
    "colab": {},
    "colab_type": "code",
    "executionInfo": {
     "elapsed": 3415,
     "status": "ok",
     "timestamp": 1594059087927,
     "user": {
      "displayName": "Muhammad Huzaifa Bashir",
      "photoUrl": "",
      "userId": "15293938916061561959"
     },
     "user_tz": -300
    },
    "id": "kGLEJR6bKGKA"
   },
   "outputs": [],
   "source": [
    "max_length = 35"
   ]
  },
  {
   "cell_type": "code",
   "execution_count": 17,
   "metadata": {
    "colab": {
     "base_uri": "https://localhost:8080/",
     "height": 1000,
     "output_embedded_package_id": "1WlNDs0FX_GwmOxsijmAY4agIgwF5TDTh"
    },
    "colab_type": "code",
    "executionInfo": {
     "elapsed": 17081,
     "status": "ok",
     "timestamp": 1594059101604,
     "user": {
      "displayName": "Muhammad Huzaifa Bashir",
      "photoUrl": "",
      "userId": "15293938916061561959"
     },
     "user_tz": -300
    },
    "id": "Y9Sphwd0KGKC",
    "outputId": "7d9b92dc-9de6-431d-a868-2368bdaf9478"
   },
   "outputs": [
    {
     "data": {
      "text/plain": [
       "Output hidden; open in https://colab.research.google.com to view."
      ]
     },
     "metadata": {},
     "output_type": "display_data"
    }
   ],
   "source": [
    "z =0\n",
    "results=[]\n",
    "while (z<len(encoding_test)):\n",
    "  pic = list(encoding_test.keys())[z]\n",
    "  image = encoding_test[pic].reshape((1,2048))\n",
    "  #image = encoding_test[pic].reshape((1,4096))\n",
    "  results.append(greedySearch(image))\n",
    "  x=plt.imread(Directory_path+pic)\n",
    "  plt.axis('off')\n",
    "  plt.imshow(x)\n",
    "  plt.show()\n",
    "  print(greedySearch(image))\n",
    "  z+=1"
   ]
  },
  {
   "cell_type": "markdown",
   "metadata": {
    "colab_type": "text",
    "id": "lHVC0dAYtU2T"
   },
   "source": [
    "# Bleu Score Calculation"
   ]
  },
  {
   "cell_type": "code",
   "execution_count": 18,
   "metadata": {
    "colab": {},
    "colab_type": "code",
    "executionInfo": {
     "elapsed": 17073,
     "status": "ok",
     "timestamp": 1594059101606,
     "user": {
      "displayName": "Muhammad Huzaifa Bashir",
      "photoUrl": "",
      "userId": "15293938916061561959"
     },
     "user_tz": -300
    },
    "id": "AJMDv_Bmo-2E"
   },
   "outputs": [],
   "source": [
    "filepath = './drive/My Drive/Project/urdu/test_captions.txt'\n",
    "ground_captions=[]\n",
    "with open(filepath, encoding='utf-8') as fp:\n",
    "    names = fp.readline()\n",
    "    while names:\n",
    "        names=names.replace(\"\\n\",\"\")\n",
    "        ground_captions.append(names)\n",
    "        names = fp.readline()"
   ]
  },
  {
   "cell_type": "code",
   "execution_count": 19,
   "metadata": {
    "colab": {
     "base_uri": "https://localhost:8080/",
     "height": 884
    },
    "colab_type": "code",
    "executionInfo": {
     "elapsed": 20315,
     "status": "ok",
     "timestamp": 1594059104867,
     "user": {
      "displayName": "Muhammad Huzaifa Bashir",
      "photoUrl": "",
      "userId": "15293938916061561959"
     },
     "user_tz": -300
    },
    "id": "Oe9AHTt5j_Ac",
    "outputId": "4ebafe4e-29a5-444c-b06d-b897704a5cf5"
   },
   "outputs": [
    {
     "name": "stdout",
     "output_type": "stream",
     "text": [
      "image 0 0.6370997536905525\n",
      "image 1 0.5163785701734271\n",
      "image 2 0.8206825711567206\n",
      "image 3 0.03990656068619026\n",
      "image 4 0.07206716452215016\n",
      "image 5 0.5010254781249093\n",
      "image 6 0.8524016761333578\n",
      "image 7 0.1319210615440637\n",
      "image 8 0.7306085739678484\n",
      "image 9 0.3659627171776776\n",
      "image 10 0.34768265977767104\n",
      "image 11 0.2811622078391865\n",
      "image 12 0.579117562367794\n",
      "image 13 0.46659769599819473\n",
      "image 14 0.4774376125905535\n",
      "image 15 0.30807517149745295\n",
      "image 16 0.2583338814978223\n",
      "image 17 0.5112539860568288\n",
      "image 18 0.499675332896607\n",
      "image 19 0.7118786505502754\n",
      "image 20 0.44329254637494486\n",
      "image 21 0.37548560991324814\n",
      "image 22 0.7817953032840942\n",
      "image 23 0.5923717260998315\n",
      "image 24 0.6301058114224722\n",
      "image 25 0.6866815260073993\n",
      "image 26 0.5986221031572082\n",
      "image 27 0.6763264743579778\n",
      "image 28 0.5640652755139506\n",
      "image 29 0.7809843077320021\n",
      "image 30 0.2544696343787984\n",
      "image 31 0.5074180027066014\n",
      "image 32 0.2596008172511666\n",
      "image 33 0.40299434371189324\n",
      "image 34 0.871797993236827\n",
      "image 35 0.2723730439238551\n",
      "image 36 0.8206959152633104\n",
      "image 37 0.13069163996995836\n",
      "image 38 0.5742714573933371\n",
      "image 39 0.42127534902512537\n",
      "image 40 0.3951235051583706\n",
      "image 41 0.5278579168998573\n",
      "image 42 0.5407346413325661\n",
      "image 43 0.22169665647833778\n",
      "image 44 0.6835031764016586\n",
      "image 45 0.47935704297203974\n",
      "image 46 0.39470464591919285\n",
      "image 47 0.5955441408114742\n",
      "image 48 0.7749224723289705\n",
      "image 49 0.4680355657489113\n",
      "Bleu Score of model is: 61.00213506604933\n"
     ]
    }
   ],
   "source": [
    "z=0\n",
    "results=[]\n",
    "Bleuscore=[]\n",
    "while (z<len(encoding_test)):\n",
    "  pic = list(encoding_test.keys())[z]\n",
    "  image = encoding_test[pic].reshape((1,2048))\n",
    "  #image = encoding_test[pic].reshape((1,4096))\n",
    "  results.append(greedySearch(image))\n",
    "\n",
    "  score = nltk.translate.bleu_score.sentence_bleu([ground_captions[z*5],ground_captions[(z*5)+1],ground_captions[(z*5)+2],ground_captions[(z*5)+3],ground_captions[(z*5)+4]], results[z])\n",
    "  print(\"image\",z,score)\n",
    "  Bleuscore.append(score)\n",
    "  z+=1\n",
    "\n",
    "print(\"Bleu Score of model is:\", (sum(Bleuscore)*100)/len(encoding_test))"
   ]
  },
  {
   "cell_type": "code",
   "execution_count": 20,
   "metadata": {
    "colab": {},
    "colab_type": "code",
    "executionInfo": {
     "elapsed": 20292,
     "status": "ok",
     "timestamp": 1594059104868,
     "user": {
      "displayName": "Muhammad Huzaifa Bashir",
      "photoUrl": "",
      "userId": "15293938916061561959"
     },
     "user_tz": -300
    },
    "id": "xJKb86pYqNlg"
   },
   "outputs": [],
   "source": [
    "z =0\n",
    "results=[]\n",
    "pic = list(encoding_test.keys())[z]"
   ]
  },
  {
   "cell_type": "code",
   "execution_count": 21,
   "metadata": {
    "colab": {
     "base_uri": "https://localhost:8080/",
     "height": 35
    },
    "colab_type": "code",
    "executionInfo": {
     "elapsed": 20284,
     "status": "ok",
     "timestamp": 1594059104869,
     "user": {
      "displayName": "Muhammad Huzaifa Bashir",
      "photoUrl": "",
      "userId": "15293938916061561959"
     },
     "user_tz": -300
    },
    "id": "0AAN39olqQM5",
    "outputId": "361d4953-54ee-4776-e92d-5453c9c7459d"
   },
   "outputs": [
    {
     "data": {
      "application/vnd.google.colaboratory.intrinsic": {
       "type": "string"
      },
      "text/plain": [
       "'3174417550_d2e6100278.jpg'"
      ]
     },
     "execution_count": 21,
     "metadata": {
      "tags": []
     },
     "output_type": "execute_result"
    }
   ],
   "source": [
    "pic"
   ]
  },
  {
   "cell_type": "code",
   "execution_count": 22,
   "metadata": {
    "colab": {},
    "colab_type": "code",
    "executionInfo": {
     "elapsed": 20277,
     "status": "ok",
     "timestamp": 1594059104870,
     "user": {
      "displayName": "Muhammad Huzaifa Bashir",
      "photoUrl": "",
      "userId": "15293938916061561959"
     },
     "user_tz": -300
    },
    "id": "BX9-gpIwqRR_"
   },
   "outputs": [],
   "source": [
    "  image = encoding_test[pic]"
   ]
  },
  {
   "cell_type": "code",
   "execution_count": 23,
   "metadata": {
    "colab": {
     "base_uri": "https://localhost:8080/",
     "height": 34
    },
    "colab_type": "code",
    "executionInfo": {
     "elapsed": 20269,
     "status": "ok",
     "timestamp": 1594059104870,
     "user": {
      "displayName": "Muhammad Huzaifa Bashir",
      "photoUrl": "",
      "userId": "15293938916061561959"
     },
     "user_tz": -300
    },
    "id": "Lh8ocAFWqWVl",
    "outputId": "ae85b3d8-423f-4af5-94c6-2b9fb9877cf1"
   },
   "outputs": [
    {
     "data": {
      "text/plain": [
       "(2048,)"
      ]
     },
     "execution_count": 23,
     "metadata": {
      "tags": []
     },
     "output_type": "execute_result"
    }
   ],
   "source": [
    "image.shape"
   ]
  },
  {
   "cell_type": "code",
   "execution_count": 23,
   "metadata": {
    "colab": {},
    "colab_type": "code",
    "executionInfo": {
     "elapsed": 20256,
     "status": "ok",
     "timestamp": 1594059104871,
     "user": {
      "displayName": "Muhammad Huzaifa Bashir",
      "photoUrl": "",
      "userId": "15293938916061561959"
     },
     "user_tz": -300
    },
    "id": "-AWTYIyfqb7e"
   },
   "outputs": [],
   "source": []
  }
 ],
 "metadata": {
  "colab": {
   "collapsed_sections": [],
   "name": "4. Caption Generator .ipynb",
   "provenance": []
  },
  "kernelspec": {
   "display_name": "Python 3",
   "language": "python",
   "name": "python3"
  },
  "language_info": {
   "codemirror_mode": {
    "name": "ipython",
    "version": 3
   },
   "file_extension": ".py",
   "mimetype": "text/x-python",
   "name": "python",
   "nbconvert_exporter": "python",
   "pygments_lexer": "ipython3",
   "version": "3.7.4"
  }
 },
 "nbformat": 4,
 "nbformat_minor": 1
}
